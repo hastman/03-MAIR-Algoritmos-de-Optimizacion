{
  "nbformat": 4,
  "nbformat_minor": 0,
  "metadata": {
    "colab": {
      "name": "Angel Lopez Gomez -AG2.ipynb",
      "provenance": [],
      "collapsed_sections": [],
      "include_colab_link": true
    },
    "kernelspec": {
      "name": "python3",
      "display_name": "Python 3"
    }
  },
  "cells": [
    {
      "cell_type": "markdown",
      "metadata": {
        "id": "view-in-github",
        "colab_type": "text"
      },
      "source": [
        "<a href=\"https://colab.research.google.com/github/hastman/03-MAIR-Algoritmos-de-Optimizacion/blob/master/Angel_Lopez_Gomez_AG2.ipynb\" target=\"_parent\"><img src=\"https://colab.research.google.com/assets/colab-badge.svg\" alt=\"Open In Colab\"/></a>"
      ]
    },
    {
      "cell_type": "markdown",
      "metadata": {
        "id": "KM8hobp3Rrzn",
        "colab_type": "text"
      },
      "source": [
        "# Actividad Guiada 2 de Algoritmos de Optimización - Ángel López Gómez \n",
        " \n",
        "[![Open In Colab](https://colab.research.google.com/assets/colab-badge.svg)](https://colab.research.google.com/drive/1nCwgZdfWTJDnVKVY0u-cLg0UxilOJLQm)\n"
      ]
    },
    {
      "cell_type": "code",
      "metadata": {
        "id": "tbNQ4WgaR-Uo",
        "colab_type": "code",
        "colab": {}
      },
      "source": [
        "from functools import wraps\n",
        "from time import time\n",
        "def duration(f):\n",
        "    @wraps(f)  \n",
        "    def timing(*args, **kwargs):\n",
        "        init = time()\n",
        "        fun_result = f(*args, **kwargs)\n",
        "        end = time()\n",
        "        print('Elapsed time %d ms' %((end - init)*1000))\n",
        "        return fun_result\n",
        "    return timing"
      ],
      "execution_count": 0,
      "outputs": []
    },
    {
      "cell_type": "markdown",
      "metadata": {
        "id": "-4kVVKAzShu-",
        "colab_type": "text"
      },
      "source": [
        "## Programacióm dinámica"
      ]
    },
    {
      "cell_type": "code",
      "metadata": {
        "id": "0EkRqrG-mMam",
        "colab_type": "code",
        "outputId": "2ac9dc89-152c-455a-90d9-562517cea7aa",
        "colab": {
          "base_uri": "https://localhost:8080/",
          "height": 34
        }
      },
      "source": [
        "TARIFAS=[[0,5,4,3,999,999,999],\n",
        "        [999,0,999,2,3,999,1],\n",
        "        [999,999,0,1,999,4,10],\n",
        "        [999,999,999,0,5,6,9],\n",
        "        [999,999,999,999,0,999,4],\n",
        "        [999,999,999,999,999,0,3],\n",
        "        [999,999,999,999,999,999,0]]\n",
        "\n",
        "def Precios (TARIFAS):  \n",
        "  N= len(TARIFAS[0])  \n",
        "  PRECIOS = [[9999]*N for i in [9999]*N ]\n",
        "  RUTA=[[\"\"]*N for i in [\"\"]*N]\n",
        "  \n",
        "  for i in range(N-1):\n",
        "      for j in range(i+1,N):\n",
        "        MIN=TARIFAS[i][j]\n",
        "        RUTA[i][j]=i        \n",
        "        for k in range (i,j):\n",
        "          if PRECIOS[i][k] + TARIFAS[k][j] < MIN:\n",
        "            MIN = PRECIOS[i][k] + TARIFAS[k][j]\n",
        "            RUTA[i][j] = k\n",
        "        PRECIOS[i][j] = MIN\n",
        "  return PRECIOS, RUTA\n",
        "\n",
        "def calcular_ruta(RUTA, desde, hasta):\n",
        "  if desde==hasta:\n",
        "    return desde\n",
        "  else:\n",
        "    return str(calcular_ruta(RUTA, desde, RUTA[desde][hasta])) + '-' + str(RUTA[desde][hasta])\n",
        "\n",
        "priceByRoute = Precios(TARIFAS)  \n",
        "calculated_route = calcular_ruta(priceByRoute[1],1,5)\n",
        "print(\"Best route {0}\".format(calculated_route))\n",
        "                                                                           \n"
      ],
      "execution_count": 4,
      "outputs": [
        {
          "output_type": "stream",
          "text": [
            "Best route 1-1-3\n"
          ],
          "name": "stdout"
        }
      ]
    },
    {
      "cell_type": "markdown",
      "metadata": {
        "id": "GM7E_7k81835",
        "colab_type": "text"
      },
      "source": [
        "## Asignacion de tareas. Ramificacion y poda\n"
      ]
    },
    {
      "cell_type": "code",
      "metadata": {
        "id": "KgVZjoTodnQc",
        "colab_type": "code",
        "colab": {}
      },
      "source": [
        "COSTES_TEST=[[11,12,18,40],\n",
        "       [14,15,13,22],\n",
        "       [11,17,19,23],\n",
        "       [17,14,20,28]]\n",
        "\n",
        "def valor(S,COSTES):\n",
        "    VALOR=0\n",
        "    for i in range(len(S)):\n",
        "      VALOR+= COSTES[S[i]][i]\n",
        "      \n",
        "    return VALOR\n"
      ],
      "execution_count": 0,
      "outputs": []
    },
    {
      "cell_type": "markdown",
      "metadata": {
        "id": "_HtgUVvbez3I",
        "colab_type": "text"
      },
      "source": [
        "### Fuerza Bruta\n"
      ]
    },
    {
      "cell_type": "code",
      "metadata": {
        "id": "IKG7au0Ye2jv",
        "colab_type": "code",
        "outputId": "f19f3120-08be-4aa8-ea75-72eb5396eda9",
        "colab": {
          "base_uri": "https://localhost:8080/",
          "height": 51
        }
      },
      "source": [
        "import itertools\n",
        "\n",
        "@duration\n",
        "def fuerza_bruta(COSTES):\n",
        "    mejor_valor=10e10\n",
        "    mejor_solucion= ''\n",
        "    \n",
        "    for S in list(itertools.permutations(range(len(COSTES)))):\n",
        "      valor_tmp = valor(S, COSTES)\n",
        "      if valor_tmp < mejor_valor:\n",
        "        mejor_solucion=S\n",
        "        mejor_valor=valor_tmp\n",
        "        \n",
        "    print(\"La mejor solucion es :\" ,mejor_solucion)\n",
        "    \n",
        "    \n",
        "fuerza_bruta(COSTES_TEST)\n"
      ],
      "execution_count": 25,
      "outputs": [
        {
          "output_type": "stream",
          "text": [
            "La mejor solucion es : (0, 3, 1, 2)\n",
            "Elapsed time 0 ms\n"
          ],
          "name": "stdout"
        }
      ]
    },
    {
      "cell_type": "markdown",
      "metadata": {
        "id": "Cn1CY4mAUsD9",
        "colab_type": "text"
      },
      "source": [
        "### Funcion para estimar un coste inferior para una solucion parcial"
      ]
    },
    {
      "cell_type": "code",
      "metadata": {
        "id": "NxdvSefsnuRc",
        "colab_type": "code",
        "colab": {}
      },
      "source": [
        "#Coste inferior para soluciones parciales\n",
        "#(1,3) Se asigna la tarea 1 al agente 0 y la tarea 3 al agente 1\n",
        "def CI(S,COSTES):\n",
        "  VALOR=0\n",
        "  #Valores Establecidos\n",
        "  for i in range(len(S)):\n",
        "    VALOR+= COSTES[i][S[i]]\n",
        "    \n",
        " #Estimacion\n",
        "  for i in range(len(COSTES)):\n",
        "    if i not in S:\n",
        "      VALOR+= min([COSTES[j][i] for j in range(len(S), len(COSTES))])\n",
        "  return VALOR    "
      ],
      "execution_count": 0,
      "outputs": []
    },
    {
      "cell_type": "markdown",
      "metadata": {
        "id": "SB7cYlTQVAZ-",
        "colab_type": "text"
      },
      "source": [
        "### Funcion para crear hijos\n",
        "\n",
        "\n",
        "\n"
      ]
    },
    {
      "cell_type": "code",
      "metadata": {
        "id": "XW6dCPSXVLh-",
        "colab_type": "code",
        "colab": {}
      },
      "source": [
        "def crear_hijos(NODO, N):\n",
        "  HIJOS = []\n",
        "  for i in range(N):\n",
        "    if i not in NODO:\n",
        "      HIJOS.append({'s': NODO+(i,)})        \n",
        "  return HIJOS"
      ],
      "execution_count": 0,
      "outputs": []
    },
    {
      "cell_type": "markdown",
      "metadata": {
        "id": "UTLq7P7Heibu",
        "colab_type": "text"
      },
      "source": [
        "### Funcion para ramificar"
      ]
    },
    {
      "cell_type": "code",
      "metadata": {
        "id": "whgxV2ab3U0u",
        "colab_type": "code",
        "outputId": "4f1d9fac-45a1-40aa-e060-a80b74e91845",
        "colab": {
          "base_uri": "https://localhost:8080/",
          "height": 51
        }
      },
      "source": [
        "@duration\n",
        "def ramificacion_y_poda(COSTES):\n",
        "  DIMENSION= len(COSTES)\n",
        "  MEJOR_SOLUCION= tuple(i for i in range(DIMENSION))  \n",
        "  CotaSup= valor(MEJOR_SOLUCION,COSTES)  \n",
        "  \n",
        "  NODOS=[]\n",
        "  NODOS.append({'s':(), 'ci': CI((), COSTES) })\n",
        "  iteracion=0  \n",
        "  \n",
        "  while (len(NODOS)>0):\n",
        "    iteracion+=1\n",
        "    nodo_prometedor = [min(NODOS, key=lambda x:x['ci'])][0]['s']    \n",
        "    #Se generan los hijos    \n",
        "    HIJOS= [{'s':x['s'], 'ci': CI(x['s'], COSTES)} for x in crear_hijos(nodo_prometedor, DIMENSION)]     \n",
        "    #Revisamos la cota superior y nos quedamos con la mejor solucion si llegamos a una solucion final\n",
        "    NODO_FINAL = [x for x in HIJOS if len(x['s'])==DIMENSION]    \n",
        "    if len(NODO_FINAL)>0:      \n",
        "      if NODO_FINAL[0]['ci']< CotaSup:\n",
        "        CotaSup=NODO_FINAL[0]['ci']\n",
        "        MEJOR_SOLUCION=NODO_FINAL       \n",
        "    \n",
        "    #poda    \n",
        "    HIJOS=[x for x in HIJOS if x['ci']<CotaSup]        \n",
        "    #Añadimos los hijos\n",
        "    NODOS.extend(HIJOS)\n",
        "\n",
        "    #Eliminamos el nodo expandido\n",
        "    NODOS= [ x for x in NODOS if x['s'] != nodo_prometedor]\n",
        "    \n",
        "  print('La mejor solucion es: {0} en {1} iteraciones para dimension {2}'.format(MEJOR_SOLUCION,iteracion,DIMENSION))\n",
        "  \n",
        "  \n",
        "\n",
        "ramificacion_y_poda(COSTES_TEST)\n",
        "  "
      ],
      "execution_count": 46,
      "outputs": [
        {
          "output_type": "stream",
          "text": [
            "La mejor solucion es: [{'s': (0, 2, 3, 1), 'ci': 61}] en 14 iteraciones para dimension 4\n",
            "Elapsed time 0 ms\n"
          ],
          "name": "stdout"
        }
      ]
    },
    {
      "cell_type": "markdown",
      "metadata": {
        "id": "sPZihmPPZ8Gk",
        "colab_type": "text"
      },
      "source": [
        "### Análisis Ramificación y poda\n",
        "\n",
        "La complejidad del algoritmo por fuerza bruta viene dada por la función `itertools.permutations` que es `O(n!)`. Lo que nos indica que este algoritmo dejara de funcionar con valores medianamente grandes, que probaremos a continuación.\n"
      ]
    },
    {
      "cell_type": "code",
      "metadata": {
        "id": "kMnfMJRYcFvc",
        "colab_type": "code",
        "colab": {
          "base_uri": "https://localhost:8080/",
          "height": 272
        },
        "outputId": "58af2a67-ab3e-404c-dd52-f1f723a9b8d5"
      },
      "source": [
        "from random import randint\n",
        "def matrix_generator(dimension):\n",
        "  matrix = []\n",
        "  for _ in range(dimension):\n",
        "    row = []\n",
        "    for _ in range(dimension):\n",
        "      row.append(randint(10, 50))\n",
        "    matrix.append(row)\n",
        "  return matrix\n",
        "\n",
        "\n",
        "matrix_five_dimension =matrix_generator(5)\n",
        "matrix_six_dimension=matrix_generator(6)\n",
        "matrix_seven_dimension=matrix_generator(7)\n",
        "matrix_eight_dimension=matrix_generator(8)\n",
        "\n",
        "\n",
        "print(\"With 5 dimensions\")\n",
        "fuerza_bruta(matrix_five_dimension)\n",
        "print(\"With 6 dimensions\")\n",
        "fuerza_bruta(matrix_six_dimension)\n",
        "print(\"With 7 dimensions\")\n",
        "fuerza_bruta(matrix_seven_dimension)\n",
        "print(\"With 8 dimensions\")\n",
        "fuerza_bruta(matrix_eight_dimension)\n",
        "print(\"With 10 dimensions \")\n",
        "fuerza_bruta(matrix_ten_dimension)"
      ],
      "execution_count": 11,
      "outputs": [
        {
          "output_type": "stream",
          "text": [
            "With 5 dimensions\n",
            "La mejor solucion es : (3, 2, 1, 4, 0)\n",
            "Elapsed time 0 ms\n",
            "With 6 dimensions\n",
            "La mejor solucion es : (2, 5, 4, 0, 3, 1)\n",
            "Elapsed time 0 ms\n",
            "With 7 dimensions\n",
            "La mejor solucion es : (0, 1, 5, 4, 3, 6, 2)\n",
            "Elapsed time 7 ms\n",
            "With 8 dimensions\n",
            "La mejor solucion es : (6, 5, 3, 1, 4, 2, 0, 7)\n",
            "Elapsed time 47 ms\n",
            "With 10 dimensions \n",
            "La mejor solucion es : (0, 8, 5, 3, 4, 6, 1, 7, 9, 2)\n",
            "Elapsed time 4763 ms\n"
          ],
          "name": "stdout"
        }
      ]
    },
    {
      "cell_type": "markdown",
      "metadata": {
        "id": "MYYUqvLmfIN0",
        "colab_type": "text"
      },
      "source": [
        "El algoritmo de fuerza bruta comienza a ser de poca utilidad en la dimensión `10`, debido a las operaciones exponeciales que se realizan para las combinaciones.\n",
        "\n",
        "Comprobaremos ahora los límites del algoritmo de ramificación y poda, comenzando por donde el anterior deja de ser útil.\n",
        "\n"
      ]
    },
    {
      "cell_type": "code",
      "metadata": {
        "id": "fIg2rO_rfsO8",
        "colab_type": "code",
        "colab": {
          "base_uri": "https://localhost:8080/",
          "height": 221
        },
        "outputId": "5213256e-397d-40ea-f86c-22db3244e6a6"
      },
      "source": [
        "matrix_ten_dimension=matrix_generator(10)\n",
        "matrix_twelve_dimension=matrix_generator(12)\n",
        "matrix_fifteen_dimension=matrix_generator(15)\n",
        "matrix_sixteen_dimension=matrix_generator(16)\n",
        "\n",
        "print(\"With 10 dimensions \")\n",
        "ramificacion_y_poda(matrix_ten_dimension)\n",
        "print(\"With 12 dimensions \")\n",
        "ramificacion_y_poda(matrix_twelve_dimension)\n",
        "print(\"With 15 dimensions \")\n",
        "ramificacion_y_poda(matrix_fifteen_dimension)\n",
        "print(\"With 16 dimensions \")\n",
        "ramificacion_y_poda(matrix_sixteen_dimension)\n",
        "\n"
      ],
      "execution_count": 51,
      "outputs": [
        {
          "output_type": "stream",
          "text": [
            "With 10 dimensions \n",
            "La mejor solucion es: [{'s': (9, 7, 0, 5, 4, 2, 8, 1, 3, 6), 'ci': 162}] en 1143 iteraciones para dimension 10\n",
            "Elapsed time 172 ms\n",
            "With 12 dimensions \n",
            "La mejor solucion es: [{'s': (0, 8, 6, 10, 2, 7, 5, 1, 4, 11, 9, 3), 'ci': 154}] en 1035 iteraciones para dimension 12\n",
            "Elapsed time 174 ms\n",
            "With 15 dimensions \n",
            "La mejor solucion es: [{'s': (10, 12, 7, 11, 0, 2, 8, 3, 5, 9, 6, 1, 14, 4, 13), 'ci': 182}] en 2217 iteraciones para dimension 15\n",
            "Elapsed time 725 ms\n",
            "With 16 dimensions \n",
            "La mejor solucion es: [{'s': (1, 4, 13, 15, 0, 2, 8, 10, 9, 6, 12, 5, 14, 3, 7, 11), 'ci': 200}] en 17707 iteraciones para dimension 16\n",
            "Elapsed time 35149 ms\n"
          ],
          "name": "stdout"
        }
      ]
    },
    {
      "cell_type": "markdown",
      "metadata": {
        "id": "g-GiEVXzmH8-",
        "colab_type": "text"
      },
      "source": [
        "El algoritmo de poda comienza a dar tiempos altos a partir de la dimesion `15` si bien el algoritmo no consume todos los recursos del cuaderno, al contrario del algoritmo fuerza bruta, que para valores mayores a `10` consumía todos los recursos del cuaderno."
      ]
    }
  ]
}