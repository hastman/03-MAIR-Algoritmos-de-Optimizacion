{
  "nbformat": 4,
  "nbformat_minor": 0,
  "metadata": {
    "colab": {
      "name": "Angel Lopez Gomez-AG3.ipynb",
      "provenance": [],
      "collapsed_sections": [],
      "toc_visible": true,
      "authorship_tag": "ABX9TyPlxIEIheP2YoHQpzbKs7Er",
      "include_colab_link": true
    },
    "kernelspec": {
      "name": "python3",
      "display_name": "Python 3"
    }
  },
  "cells": [
    {
      "cell_type": "markdown",
      "metadata": {
        "id": "view-in-github",
        "colab_type": "text"
      },
      "source": [
        "<a href=\"https://colab.research.google.com/github/hastman/03-MAIR-Algoritmos-de-Optimizacion/blob/master/Angel_Lopez_Gomez_AG3.ipynb\" target=\"_parent\"><img src=\"https://colab.research.google.com/assets/colab-badge.svg\" alt=\"Open In Colab\"/></a>"
      ]
    },
    {
      "cell_type": "markdown",
      "metadata": {
        "id": "0YCU5Ek0lAdn",
        "colab_type": "text"
      },
      "source": [
        "# Actividad Guiada 3 de Algoritmos de Optimización - Ángel López Gómez \n",
        "\n",
        " \n",
        "[![Open In Colab](https://colab.research.google.com/assets/colab-badge.svg)](https://colab.research.google.com/drive/1MNg2Dj6HgSHiCS2SpuFuejWyWfW915k1)"
      ]
    },
    {
      "cell_type": "code",
      "metadata": {
        "id": "ALAxTEwPnvnn",
        "colab_type": "code",
        "colab": {}
      },
      "source": [
        "import networkx as nx\n",
        "import matplotlib.pyplot as plt\n",
        "\n",
        "def dibujar_grafico(Nodos,Aristas):\n",
        "  g= nx.Graph()\n",
        "  g.add_nodes_from(Nodos)\n",
        "\n",
        "  aristas = Aristas + [(70,1)]\n",
        "  g.add_edges_from(aristas)\n",
        "\n",
        "  labels = {}\n",
        "  for idx,node in enumerate(g.nodes()):\n",
        "    labels[node]=idx\n",
        "  nx.draw_random(g,node_color='y',edge_color='#909090',node_size=500,labels=labels)\n"
      ],
      "execution_count": 0,
      "outputs": []
    },
    {
      "cell_type": "markdown",
      "metadata": {
        "id": "OFk1oLqnl1pv",
        "colab_type": "text"
      },
      "source": [
        "## Preparación Entorno\n",
        "\n",
        "1. Instalación de librerias necesarias\n",
        "2. Descarga de juego de datos\n",
        "3. Instalación y carga de los módulos TSP\n",
        "4. Cargar datos del problema\n",
        "5. Funciones generales"
      ]
    },
    {
      "cell_type": "code",
      "metadata": {
        "id": "AFN-IUpJkz2x",
        "colab_type": "code",
        "colab": {
          "base_uri": "https://localhost:8080/",
          "height": 119
        },
        "outputId": "77953138-03e6-4f1a-cc86-eb43b8d2b28d"
      },
      "source": [
        "#1\n",
        "!pip install request"
      ],
      "execution_count": 2,
      "outputs": [
        {
          "output_type": "stream",
          "text": [
            "Requirement already satisfied: request in /usr/local/lib/python3.6/dist-packages (2019.4.13)\n",
            "Requirement already satisfied: post in /usr/local/lib/python3.6/dist-packages (from request) (2019.4.13)\n",
            "Requirement already satisfied: get in /usr/local/lib/python3.6/dist-packages (from request) (2019.4.13)\n",
            "Requirement already satisfied: setuptools in /usr/local/lib/python3.6/dist-packages (from request) (42.0.2)\n",
            "Requirement already satisfied: query-string in /usr/local/lib/python3.6/dist-packages (from get->request) (2019.4.13)\n",
            "Requirement already satisfied: public in /usr/local/lib/python3.6/dist-packages (from query-string->get->request) (2019.4.13)\n"
          ],
          "name": "stdout"
        }
      ]
    },
    {
      "cell_type": "code",
      "metadata": {
        "id": "U4JfiYGimUZI",
        "colab_type": "code",
        "colab": {
          "base_uri": "https://localhost:8080/",
          "height": 34
        },
        "outputId": "88b648b7-cce4-4f94-d42d-0c7869e6b22e"
      },
      "source": [
        "#2\n",
        "import urllib.request\n",
        "\n",
        "file = \"swiss42.tsp\"\n",
        "\n",
        "urllib.request.urlretrieve(\"http://elib.zib.de/pub/mp-testdata/tsp/tsplib/tsp/swiss42.tsp\",file)"
      ],
      "execution_count": 3,
      "outputs": [
        {
          "output_type": "execute_result",
          "data": {
            "text/plain": [
              "('swiss42.tsp', <http.client.HTTPMessage at 0x7f9b3b2ee0b8>)"
            ]
          },
          "metadata": {
            "tags": []
          },
          "execution_count": 3
        }
      ]
    },
    {
      "cell_type": "code",
      "metadata": {
        "id": "vJR5DHxOm3S3",
        "colab_type": "code",
        "colab": {
          "base_uri": "https://localhost:8080/",
          "height": 85
        },
        "outputId": "787f3670-aa93-4127-80eb-19ecc55334f5"
      },
      "source": [
        "#3\n",
        "!pip install tsplib95"
      ],
      "execution_count": 4,
      "outputs": [
        {
          "output_type": "stream",
          "text": [
            "Requirement already satisfied: tsplib95 in /usr/local/lib/python3.6/dist-packages (0.6.1)\n",
            "Requirement already satisfied: networkx~=2.1 in /usr/local/lib/python3.6/dist-packages (from tsplib95) (2.4)\n",
            "Requirement already satisfied: Click>=6.0 in /usr/local/lib/python3.6/dist-packages (from tsplib95) (7.0)\n",
            "Requirement already satisfied: decorator>=4.3.0 in /usr/local/lib/python3.6/dist-packages (from networkx~=2.1->tsplib95) (4.4.1)\n"
          ],
          "name": "stdout"
        }
      ]
    },
    {
      "cell_type": "code",
      "metadata": {
        "id": "IANt9smDnA82",
        "colab_type": "code",
        "colab": {
          "base_uri": "https://localhost:8080/",
          "height": 319
        },
        "outputId": "aa9eced3-c2d2-4bbc-b96e-6277697693c7"
      },
      "source": [
        "#4\n",
        "import tsplib95\n",
        "import random\n",
        "import math\n",
        "\n",
        "problem = tsplib95.load_problem(file)\n",
        "\n",
        "Nodos = list(map(lambda x:problem.get_display(x),problem.get_nodes()))\n",
        "\n",
        "Aristas = list(map(lambda x:(x,x+1),problem.get_nodes()))\n",
        "\n",
        "dibujar_grafico(Nodos,Aristas)\n",
        "\n"
      ],
      "execution_count": 5,
      "outputs": [
        {
          "output_type": "display_data",
          "data": {
            "image/png": "[encoded data removed]",
            "text/plain": [
              "<Figure size 432x288 with 1 Axes>"
            ]
          },
          "metadata": {
            "tags": []
          }
        }
      ]
    },
    {
      "cell_type": "code",
      "metadata": {
        "id": "nhzM2AQjqQ1l",
        "colab_type": "code",
        "colab": {}
      },
      "source": [
        "#5\n",
        "def crear_solucion(Nodos):\n",
        "  solucion = [0]\n",
        "  for i in range(len(Nodos)-1):\n",
        "    solucion = solucion + [random.choice(list(set(Nodos) - set({0})  - set(solucion)  ))]\n",
        "  return solucion\n",
        "\n",
        "def distancia(a,b,p):\n",
        "  return p.wfunc(a,b)\n",
        "\n",
        "def distancia_total(sol,p):\n",
        "  distancia_total = 0\n",
        "  for i in range(len(sol)-1):\n",
        "    distancia_total += distancia(sol[i],sol[i+1],p)\n",
        "  return distancia_total+ distancia(sol[len(sol)-1],sol[0],p)"
      ],
      "execution_count": 0,
      "outputs": []
    },
    {
      "cell_type": "markdown",
      "metadata": {
        "id": "qATHbR9srcU4",
        "colab_type": "text"
      },
      "source": [
        "## Búsqueda Aleatoria"
      ]
    },
    {
      "cell_type": "code",
      "metadata": {
        "id": "Ot8kjMFLrfnV",
        "colab_type": "code",
        "colab": {
          "base_uri": "https://localhost:8080/",
          "height": 51
        },
        "outputId": "ebea1347-2553-42a5-ad17-f0636aecfbe6"
      },
      "source": [
        "def busqueda_aleatoria(p,N):\n",
        "\n",
        "  Nodos = list(p.get_nodes())\n",
        "\n",
        "  mejor_solucion = []\n",
        "  mejor_distancia = 10e100\n",
        "\n",
        "  for i in range(N):\n",
        "    solucion = crear_solucion(Nodos)\n",
        "    distancia_solucion = distancia_total(solucion,p)\n",
        "    if distancia_solucion < mejor_distancia:\n",
        "      mejor_solucion = solucion\n",
        "      mejor_distancia = distancia_solucion\n",
        "  \n",
        "  print(\"La mejor solución encontrada es {0} \".format(mejor_solucion))\n",
        "  print(\"Con una distancia total de {0} \".format(mejor_distancia))\n",
        "  return\n",
        "\n",
        "busqueda_aleatoria(problem,100)\n"
      ],
      "execution_count": 7,
      "outputs": [
        {
          "output_type": "stream",
          "text": [
            "La mejor solución encontrada es [0, 5, 3, 34, 18, 37, 35, 1, 13, 7, 4, 6, 14, 19, 30, 26, 10, 39, 8, 12, 9, 29, 27, 23, 38, 20, 17, 32, 16, 28, 11, 33, 15, 36, 22, 41, 24, 21, 31, 25, 40, 2] \n",
            "Con una distancia total de 4231 \n"
          ],
          "name": "stdout"
        }
      ]
    },
    {
      "cell_type": "markdown",
      "metadata": {
        "id": "CMen0B5Dta65",
        "colab_type": "text"
      },
      "source": [
        "## Búsqueda Local"
      ]
    },
    {
      "cell_type": "code",
      "metadata": {
        "id": "bB5ETfCJtd9V",
        "colab_type": "code",
        "colab": {
          "base_uri": "https://localhost:8080/",
          "height": 51
        },
        "outputId": "6fcfc63b-6e39-4c43-e22e-3b06171ecd2d"
      },
      "source": [
        "def genera_vecina(p,solucion):\n",
        "  mejor_solucion = []\n",
        "  mejor_distancia = 10e100\n",
        "\n",
        "  for i in range(1,len(solucion)-1):\n",
        "    for j in range(i+1,len(solucion)):\n",
        "      vecina = solucion[:i] + [solucion[j]] + solucion[i+1:j] + [solucion[i]] + solucion[j+1:]\n",
        "      distancia_vecina = distancia_total(vecina,p)\n",
        "      if distancia_vecina <= mejor_distancia:\n",
        "        mejor_solucion = vecina\n",
        "        mejor_distancia = distancia_vecina\n",
        "  return mejor_solucion\n",
        "\n",
        "\n",
        "def busqueda_local(p,N):\n",
        "  \n",
        "  Nodos = list(p.get_nodes())\n",
        "  mejor_solucion = []\n",
        "  mejor_distancia = 10e100\n",
        "  solucion_referencia = crear_solucion(Nodos)\n",
        "\n",
        "  for i in range(N):\n",
        "    vecina = genera_vecina(p,solucion_referencia)\n",
        "    distancia_vecina = distancia_total(vecina,p)\n",
        "    if distancia_vecina <= mejor_distancia:\n",
        "      mejor_solucion = vecina\n",
        "      mejor_distancia = distancia_vecina\n",
        "    \n",
        "    solucion_referencia = vecina\n",
        "  \n",
        "  print(\"La mejor solución encontrada es {0} \".format(mejor_solucion))\n",
        "  print(\"Con una distancia total de {0} \".format(mejor_distancia))\n",
        "  return\n",
        "\n",
        "\n",
        "busqueda_local(problem,100)\n"
      ],
      "execution_count": 8,
      "outputs": [
        {
          "output_type": "stream",
          "text": [
            "La mejor solución encontrada es [0, 17, 36, 35, 38, 22, 30, 32, 29, 9, 8, 10, 41, 23, 40, 24, 21, 39, 13, 19, 5, 4, 3, 2, 27, 28, 25, 11, 12, 18, 26, 6, 1, 7, 14, 16, 15, 37, 31, 20, 33, 34] \n",
            "Con una distancia total de 1835 \n"
          ],
          "name": "stdout"
        }
      ]
    },
    {
      "cell_type": "markdown",
      "metadata": {
        "id": "JDN9acO2wj_X",
        "colab_type": "text"
      },
      "source": [
        "## Reconocimiento Simulado"
      ]
    },
    {
      "cell_type": "code",
      "metadata": {
        "id": "CmAGzVzTwmol",
        "colab_type": "code",
        "colab": {
          "base_uri": "https://localhost:8080/",
          "height": 51
        },
        "outputId": "67fee282-b39b-40e4-bb01-1b85f78ae0d7"
      },
      "source": [
        "def genera_vecina_aleatoria(solucion):\n",
        "  i = random.choice(range(1,len(solucion)))\n",
        "  j = random.choice(list(set(range(1,len(solucion)))-{i}))\n",
        "  if j<i:\n",
        "    i,j=j,i\n",
        "  vecina = list(solucion[:i]+[solucion[j]]+solucion[i+1:j]+[solucion[i]]+solucion[j+1:])\n",
        "  return vecina\n",
        "\n",
        "def probabilidad(T,d):\n",
        "  return random.random() <= math.exp(-1*d/T)\n",
        "\n",
        "def bajar_temperatura(T):\n",
        "  #descenso exponencial\n",
        "  return T*.999\n",
        "\n",
        "def reconocimiento_simulado(p,T):\n",
        "  Nodos = list(p.get_nodes())\n",
        "  solucion_referencia = crear_solucion(Nodos)\n",
        "  distancia_referencia = distancia_total(solucion_referencia,p)\n",
        "  \n",
        "  mejor_solucion = []\n",
        "  mejor_distancia = 10e100\n",
        "\n",
        "  while T>1:    \n",
        "    vecina = genera_vecina_aleatoria(solucion_referencia)\n",
        "    distancia_vecina = distancia_total(vecina,p)\n",
        "    if distancia_vecina < mejor_distancia:\n",
        "      mejor_solucion = vecina\n",
        "      mejor_distancia = distancia_vecina\n",
        "    \n",
        "    prob = probabilidad(T,abs(distancia_referencia-distancia_vecina))    \n",
        "    if distancia_vecina < distancia_referencia or prob:\n",
        "      solucion_referencia = vecina\n",
        "      distancia_referencia = distancia_vecina\n",
        "    T = bajar_temperatura(T)\n",
        "  \n",
        "  print(\"La mejor solución encontrada es {0} \".format(mejor_solucion))\n",
        "  print(\"Con una distancia total de {0} \".format(mejor_distancia))\n",
        "  return\n",
        "\n",
        "reconocimiento_simulado(problem,100000)\n",
        "    "
      ],
      "execution_count": 9,
      "outputs": [
        {
          "output_type": "stream",
          "text": [
            "La mejor solución encontrada es [0, 8, 23, 41, 25, 11, 12, 5, 14, 16, 15, 37, 7, 6, 21, 39, 24, 40, 9, 10, 18, 13, 19, 26, 4, 2, 27, 3, 1, 17, 36, 35, 31, 32, 28, 29, 30, 22, 38, 34, 33, 20] \n",
            "Con una distancia total de 1851 \n"
          ],
          "name": "stdout"
        }
      ]
    },
    {
      "cell_type": "markdown",
      "metadata": {
        "id": "m6J7XH812BT7",
        "colab_type": "text"
      },
      "source": [
        "## Colonia de hormigas"
      ]
    },
    {
      "cell_type": "code",
      "metadata": {
        "id": "ZIbyQsZJurdw",
        "colab_type": "code",
        "colab": {
          "base_uri": "https://localhost:8080/",
          "height": 105
        },
        "outputId": "690b33de-75bf-4024-c325-4d438f053e57"
      },
      "source": [
        "import numpy \n",
        "\n",
        "def Add_Nodo(p,H,T):    \n",
        "  unvisited = list(set(range(1,len(Nodos)))-set(H))      \n",
        "  return random.choice(unvisited)\n",
        "\n",
        "def Add_Nodo_Prob(p,H,T,i,alpha,beta):  \n",
        "  Nodos = list(p.get_nodes())\n",
        "  prob = []\n",
        "  unvisited = list(set(range(1,len(Nodos)))-set(H))  \n",
        "  for j,unvisited_city in enumerate(unvisited):\n",
        "    numerator = T[i][j]**alpha*(1/distancia(H[i],unvisited_city,p)**beta)\n",
        "    summation = sum( T[i][k]**alpha*(1/distancia(H[i],u_v,p)**beta) for k,u_v in enumerate(unvisited)  )\n",
        "    p_ij = numerator/float(summation)\n",
        "    prob.append(p_ij) \n",
        "  \n",
        "  return numpy.random.choice(unvisited,1,prob)[0]\n",
        "\n",
        "def Incrementa_Feromona(p,T,H):\n",
        "  for i in range(len(H)-1):\n",
        "    T[H[i]][H[i+1]] += 1000/distancia_total(H,p)\n",
        "  return T\n",
        "\n",
        "def Evapora_Feromonas(p,T):\n",
        "  Nodos = list(p.get_nodes())\n",
        "  T =[[max(T[i][j]-0.3,1) for i in range(len(Nodos))] for j in range(len(Nodos))]\n",
        "  return T\n",
        "\n",
        "def hormigas(p,N,prob=False,alpha=0,beta=0):\n",
        "\n",
        "  Nodos = list(p.get_nodes())\n",
        "  Tipo_Ejecucion = \"Probabilisticos\" if prob else \"Random\"\n",
        "\n",
        "  #Inicializa las aristas con valor de 1 feromona\n",
        "  T = [[1 for _ in range(len(Nodos))] for _ in range(len(Nodos))]\n",
        "\n",
        "  Hormiga = [[0] for _ in range(N)]\n",
        "  \n",
        "\n",
        "  for h in range(N):\n",
        "    for i in range(len(Nodos)-1):\n",
        "      Nuevo_Nodo = Add_Nodo_Prob(p,Hormiga[h],T,i,alpha,beta) if prob else Add_Nodo(p,Hormiga[h],T)\n",
        "      Hormiga[h].append(Nuevo_Nodo)\n",
        "    \n",
        "    T = Incrementa_Feromona(p,T,Hormiga[h])\n",
        "    T = Evapora_Feromonas(p,T)\n",
        "\n",
        "  \n",
        "  mejor_solucion = []\n",
        "  mejor_distancia = 10e100\n",
        "\n",
        "  for h in range(N):\n",
        "    distancia_actual = distancia_total(Hormiga[h],p)\n",
        "    if distancia_actual < mejor_distancia:\n",
        "      mejor_distancia = distancia_actual\n",
        "      mejor_solucion = Hormiga[h]\n",
        "  print(\"La mejor solución encontrada es {0} usando ejecución {1}\".format(mejor_solucion,Tipo_Ejecucion))\n",
        "  print(\"Con una distancia total de {0} usando ejecución {1}\".format(mejor_distancia,Tipo_Ejecucion))\n",
        "  return\n",
        "\n",
        "hormigas(problem,100)\n",
        "hormigas(problem,100,True,5,2)\n"
      ],
      "execution_count": 22,
      "outputs": [
        {
          "output_type": "stream",
          "text": [
            "La mejor solución encontrada es [0, 41, 8, 22, 9, 29, 16, 13, 27, 39, 38, 32, 2, 35, 5, 26, 36, 7, 4, 21, 24, 33, 37, 30, 6, 23, 34, 20, 3, 19, 12, 15, 17, 25, 10, 40, 28, 31, 11, 18, 14, 1] usando ejecución Random\n",
            "Con una distancia total de 4111 usando ejecución Random\n",
            "La mejor solución encontrada es [0, 19, 14, 37, 29, 10, 25, 34, 20, 4, 35, 23, 11, 40, 9, 1, 31, 13, 18, 39, 33, 22, 38, 32, 36, 16, 5, 12, 6, 24, 8, 41, 21, 26, 3, 15, 30, 27, 28, 7, 2, 17] usando ejecución Probabilisticos\n",
            "Con una distancia total de 4003 usando ejecución Probabilisticos\n"
          ],
          "name": "stdout"
        }
      ]
    }
  ]
}