{
  "nbformat": 4,
  "nbformat_minor": 0,
  "metadata": {
    "colab": {
      "name": "Angel Lopez Gomez-AG1.ipynb",
      "provenance": [],
      "include_colab_link": true
    },
    "kernelspec": {
      "name": "python3",
      "display_name": "Python 3"
    }
  },
  "cells": [
    {
      "cell_type": "markdown",
      "metadata": {
        "id": "view-in-github",
        "colab_type": "text"
      },
      "source": [
        "<a href=\"https://colab.research.google.com/github/hastman/03-MAIR-Algoritmos-de-Optimizacion/blob/master/Angel_Lopez_Gomez_AG1.ipynb\" target=\"_parent\"><img src=\"https://colab.research.google.com/assets/colab-badge.svg\" alt=\"Open In Colab\"/></a>"
      ]
    },
    {
      "cell_type": "markdown",
      "metadata": {
        "id": "8bbg4bY38066",
        "colab_type": "text"
      },
      "source": [
        "# Actividad Guiada 1 de Algoritmos de Optimización - Ángel López Gómez \n",
        " \n",
        "[![Open In Colab](https://colab.research.google.com/assets/colab-badge.svg)](https://colab.research.google.com/drive/1fsabvJ9TTcV1g9UObh1MXHs9gC1WPdOZ)\n",
        "\n",
        "\n"
      ]
    },
    {
      "cell_type": "markdown",
      "metadata": {
        "id": "uFs3NDBFnIBx",
        "colab_type": "text"
      },
      "source": [
        "## Algoritmo Torres de Hanoy"
      ]
    },
    {
      "cell_type": "code",
      "metadata": {
        "id": "nmogBqqkna74",
        "colab_type": "code",
        "colab": {
          "base_uri": "https://localhost:8080/",
          "height": 272
        },
        "outputId": "eb3790a7-32ad-454e-b46f-a6cf768f0365"
      },
      "source": [
        "NUM_BLOCKS=6\n",
        "MOVE_MSG='Move from %d to %d'\n",
        "\n",
        "def hanoy_towers(N,m_from,m_to):\n",
        "  if (N==1):\n",
        "    print(MOVE_MSG %(m_from,m_to))\n",
        "  else:\n",
        "    hanoy_towers(N-1,m_from,NUM_BLOCKS-m_from-m_to)\n",
        "    print(MOVE_MSG % (m_from,m_to))\n",
        "    hanoy_towers(N-1,NUM_BLOCKS-m_from-m_to,m_to)\n",
        "\n",
        "hanoy_towers(4,1,3)\n"
      ],
      "execution_count": 8,
      "outputs": [
        {
          "output_type": "stream",
          "text": [
            "Move from 1 to 2\n",
            "Move from 1 to 3\n",
            "Move from 2 to 3\n",
            "Move from 1 to 2\n",
            "Move from 3 to 1\n",
            "Move from 3 to 2\n",
            "Move from 1 to 2\n",
            "Move from 1 to 3\n",
            "Move from 2 to 3\n",
            "Move from 2 to 1\n",
            "Move from 3 to 1\n",
            "Move from 2 to 3\n",
            "Move from 1 to 2\n",
            "Move from 1 to 3\n",
            "Move from 2 to 3\n"
          ],
          "name": "stdout"
        }
      ]
    },
    {
      "cell_type": "markdown",
      "metadata": {
        "id": "1Y_73VSerCuK",
        "colab_type": "text"
      },
      "source": [
        "## Problema de las 4 Reinas"
      ]
    },
    {
      "cell_type": "code",
      "metadata": {
        "id": "BVHOMSvVrLFR",
        "colab_type": "code",
        "colab": {
          "base_uri": "https://localhost:8080/",
          "height": 51
        },
        "outputId": "8e3452e5-da1d-4c06-c9fa-fb57fdd80e08"
      },
      "source": [
        "N=4\n",
        "def es_prometedora(SOLUCION , etapa):\n",
        "  for i in range(etapa+1):\n",
        "    if SOLUCION.count(SOLUCION[i]) >1:\n",
        "      return False\n",
        "    \n",
        "    for j in range (i+1, etapa+1):\n",
        "      if abs(i-j)== abs(SOLUCION[i]- SOLUCION[j]):\n",
        "        return False\n",
        "  return True\n",
        "\n",
        "def reinas (solucion = [], etapa=0):    \n",
        "\n",
        "  #inicialización del array de soluciones\n",
        "  if len(solucion) == 0:\n",
        "    solucion = [ 0 for i in range(N)]\n",
        "\n",
        "  for i in range (1, N+1):\n",
        "    solucion[etapa] = i    \n",
        "    if es_prometedora(solucion, etapa):\n",
        "      if etapa == N-1 :\n",
        "          print(\"La solucion es:\")\n",
        "          print(solucion)       \n",
        "      else:      \n",
        "       reinas (solucion,etapa+1)        \n",
        "    else:      \n",
        "      None\n",
        "      \n",
        "reinas()"
      ],
      "execution_count": 13,
      "outputs": [
        {
          "output_type": "stream",
          "text": [
            "La solucion es:\n",
            "[3, 1, 4, 2]\n"
          ],
          "name": "stdout"
        }
      ]
    },
    {
      "cell_type": "code",
      "metadata": {
        "id": "ZfHIJHf9skof",
        "colab_type": "code",
        "colab": {}
      },
      "source": [
        ""
      ],
      "execution_count": 0,
      "outputs": []
    },
    {
      "cell_type": "markdown",
      "metadata": {
        "id": "USeB7eNlslFD",
        "colab_type": "text"
      },
      "source": [
        "## Encontrar los puntos mas cercanos\n",
        "\n",
        "## 1 Dimensión Fuerza Bruta"
      ]
    },
    {
      "cell_type": "code",
      "metadata": {
        "id": "46kQ2Getzxmo",
        "colab_type": "code",
        "colab": {}
      },
      "source": [
        "\n",
        "from functools import wraps\n",
        "from time import time\n",
        "def duration(f):\n",
        "    @wraps(f)  \n",
        "    def timing(*args, **kwargs):\n",
        "        init = time()\n",
        "        fun_result = f(*args, **kwargs)\n",
        "        end = time()\n",
        "        print('Elapsed time %d ms' %((end - init)*1000))\n",
        "        return fun_result\n",
        "    return timing"
      ],
      "execution_count": 0,
      "outputs": []
    },
    {
      "cell_type": "code",
      "metadata": {
        "id": "stPdujafstag",
        "colab_type": "code",
        "colab": {
          "base_uri": "https://localhost:8080/",
          "height": 85
        },
        "outputId": "8ceb5020-a34a-4319-dca6-cecd007664f0"
      },
      "source": [
        "MAX_DISTANCE=9999999999\n",
        "\n",
        "def dist(a,b):  \n",
        "  distance = MAX_DISTANCE\n",
        "  if type(a) is int:\n",
        "    distance= abs(a-b)\n",
        "  elif len(a)==2:\n",
        "    distance = (a[0] - b[0]) ** 2 + (a[1] - b[1]) ** 2\n",
        "  elif len(a)==3:\n",
        "    distance = (a[0] - b[0]) ** 2 + (a[1] - b[1]) ** 2 + (a[2] - b[2]) ** 2\n",
        "  else:    \n",
        "    return MAX_DISTANCE\n",
        "  return distance if distance > 0 else MAX_DISTANCE\n",
        "  \n",
        "\n",
        "@duration\n",
        "def proximity_1_d_brute_force(nums):\n",
        "  distance = MAX_DISTANCE\n",
        "  comparissions = 0\n",
        "  nearest_points = ()\n",
        "  print(\"Find nearest point in {0} points\".format(len(nums)))\n",
        "  for i in range(0,len(nums)):\n",
        "    for j in range(0,len(nums)):          \n",
        "      comparissions+=1  \n",
        "      new_distance = dist(nums[i],nums[j])      \n",
        "      if (distance > new_distance):        \n",
        "        distance = new_distance\n",
        "        nearest_points = (nums[i],nums[j],distance)\n",
        "  print(\"Nearest points {0},{1} with distance {2}\".format(nearest_points[0],nearest_points[1],nearest_points[2]))\n",
        "  print(\"Comparissions {0} \".format(comparissions))\n",
        "proximity_1_d_brute_force([500,1,3,5,76,70,79,234,76,3234,42342,21331,34,1231,5,421,46,214,56,20,342356,2123,3421423,1231,1231,5423,6523,3453,123,12312,6344,2123,3421423,1231,1231,5423,6523,3453,123,12312,6344,2123,3421423,1231,1231,5423,6523,3453,123,12312,6344,2123,3421423,1231,1231,5423,6523,3453,123,12312,6344,2123,3421423,1231,1231,5423,6523,3453,123,12312,6344,2123,3421423,1231,1231,5423,6523,3453,123,12312,6344,2123,3421423,1231,1231,5423,6523,3453,123,12312,6344])\n"
      ],
      "execution_count": 95,
      "outputs": [
        {
          "output_type": "stream",
          "text": [
            "Find nearest point in 91 points\n",
            "Nearest points 1,3 with distance 2\n",
            "Comparissions 8281 \n",
            "Elapsed time 5 ms\n"
          ],
          "name": "stdout"
        }
      ]
    },
    {
      "cell_type": "markdown",
      "metadata": {
        "id": "09u9SsB2x9-Q",
        "colab_type": "text"
      },
      "source": [
        "La complejidad de este algoritmo es de O(n^2), podemos reducir el número de comparaciones efectuadas poniendo una condición de salida en el mejor de los casos `distancia=1` "
      ]
    },
    {
      "cell_type": "code",
      "metadata": {
        "id": "fh8cGEFB72d0",
        "colab_type": "code",
        "colab": {}
      },
      "source": [
        ""
      ],
      "execution_count": 0,
      "outputs": []
    },
    {
      "cell_type": "code",
      "metadata": {
        "id": "jTAqFzTNwrhz",
        "colab_type": "code",
        "colab": {
          "base_uri": "https://localhost:8080/",
          "height": 85
        },
        "outputId": "82b27891-4119-428f-bcd6-435d9c7cb60d"
      },
      "source": [
        "MIN_DISTANCE = 1\n",
        "@duration\n",
        "def proximity_1_d_brute_force_exit_condition(nums):  \n",
        "  distance = MAX_DISTANCE\n",
        "  comparissions = 0\n",
        "  nearest_points = ()\n",
        "  print(\"Find nearest point in {0} points\".format(len(nums)))\n",
        "  for i in range(0,len(nums)):\n",
        "    if (distance==MIN_DISTANCE):\n",
        "      break\n",
        "    for j in range(0,len(nums)):          \n",
        "      comparissions+=1  \n",
        "      new_distance = dist(nums[i],nums[j])      \n",
        "      if (distance > new_distance):        \n",
        "        distance = new_distance\n",
        "        nearest_points = (nums[i],nums[j],distance)\n",
        "  print(\"Nearest points {0},{1} with distance {2}\".format(nearest_points[0],nearest_points[1],nearest_points[2]))\n",
        "  print(\"Comparissions {0} \".format(comparissions))\n",
        "\n",
        "proximity_1_d_brute_force_exit_condition([500,1,3,5,76,70,79,234,76,3234,42342,21331,34,1231,5,421,46,214,56,20,342356,2123,3421423,1231,1231,5423,6523,3453,123,12312,6344,2,2123,3421423,1231,1231,5423,6523,3453,123,12312,6344,2123,3421423,1231,1231,5423,6523,3453,123,12312,6344,2123,3421423,1231,1231,5423,6523,3453,123,12312,6344,2123,3421423,1231,1231,5423,6523,3453,123,12312,6344,2123,3421423,1231,1231,5423,6523,3453,123,12312,6344,2123,3421423,1231,1231,5423,6523,3453,123,12312,6344])\n"
      ],
      "execution_count": 86,
      "outputs": [
        {
          "output_type": "stream",
          "text": [
            "Find nearest point in 92 points\n",
            "Nearest points 1,2 with distance 1\n",
            "Comparissions 184 \n",
            "Elapsed time 0 ms\n"
          ],
          "name": "stdout"
        }
      ]
    },
    {
      "cell_type": "code",
      "metadata": {
        "id": "RDTnarGO9A_6",
        "colab_type": "code",
        "colab": {}
      },
      "source": [
        ""
      ],
      "execution_count": 0,
      "outputs": []
    },
    {
      "cell_type": "markdown",
      "metadata": {
        "id": "THX1nJY_-vof",
        "colab_type": "text"
      },
      "source": [
        "## 1 Dimensión Divide y vencerás\n"
      ]
    },
    {
      "cell_type": "code",
      "metadata": {
        "id": "mJxR7KCM-1Vl",
        "colab_type": "code",
        "colab": {
          "base_uri": "https://localhost:8080/",
          "height": 51
        },
        "outputId": "f4da5cad-4731-417c-ccc2-fb354e1daeca"
      },
      "source": [
        "def brute_force(nums):  \n",
        "  distance = MAX_DISTANCE\n",
        "  point = ()\n",
        "  for i in range(0,len(nums)):\n",
        "    for j in range(0,len(nums)):            \n",
        "      new_distance = dist(nums[i],nums[j])            \n",
        "      if (distance > new_distance):\n",
        "        point=(nums[i],nums[j],distance)\n",
        "        distance = new_distance\n",
        "         \n",
        "  return distance,point\n",
        "\n",
        "\n",
        "def divide_and_conquer(nums):\n",
        "    #Exit condition using brute force\n",
        "    if len(nums) <= 2:\n",
        "        return brute_force(nums)  \n",
        "    ## Halve array\n",
        "    numsL = nums[:len(nums)//2]\n",
        "    numsR = nums[len(nums)//2:]\n",
        "    ## Get minimun value with recursive calls\n",
        "    result = min(divide_and_conquer(numsL), divide_and_conquer(numsR))\n",
        "    for numL in numsL:\n",
        "        for numR in numsR:\n",
        "            result = min(result, (dist(numL, numR), (numL, numR)))    \n",
        "    return result\n",
        "\n",
        "@duration\n",
        "def run(nums):\n",
        "  result = divide_and_conquer(nums)\n",
        "  print(\"Nearest points {0},{1} with distance {2}\".format(result[1][0],result[1][1],result[0]))\n",
        "\n",
        "run([500,1,5,76,70,79,234,76,3234,42342,21331,34,1231,5,421,46,214,56,20,342356,2123,3421423,1231,1231,5423,6523,3453,123,12312,6344,77,2123,3421423,1231,1231,5423,6523,3453,123,12312,6344,2123,3421423,1231,1231,5423,6523,3453,123,12312,6344,2123,3421423,1231,1231,5423,6523,3453,123,12312,6344,2123,3421423,1231,1231,5423,6523,3453,123,12312,6344,2123,3421423,1231,1231,5423,6523,3453,123,12312,6344,2123,3421423,1231,1231,5423,6523,3453,123,12312,6344])"
      ],
      "execution_count": 96,
      "outputs": [
        {
          "output_type": "stream",
          "text": [
            "Nearest points 76,77 with distance 1\n",
            "Elapsed time 2 ms\n"
          ],
          "name": "stdout"
        }
      ]
    },
    {
      "cell_type": "markdown",
      "metadata": {
        "id": "HlR99gVzOuy1",
        "colab_type": "text"
      },
      "source": [
        "Este algoritmo tiene una complejidad O(nlogn), ya que realiza una división de los datos (logn) y posteriormente se vuelven a unir (n) para evaluar el resultado."
      ]
    },
    {
      "cell_type": "markdown",
      "metadata": {
        "id": "7PlUp-KAPOJh",
        "colab_type": "text"
      },
      "source": [
        "## Extender el algoritmo a 2d y 3d\n",
        "\n",
        "Para realizar esta operación la funcion `dist` la generalizamos para que siempre reciba una tupla de datos y en funcion de esta calculamos la distancia.\n",
        "```\n",
        "MAX_DISTANCE=9999999999\n",
        "\n",
        "def dist(a,b):  \n",
        "  distance = MAX_DISTANCE\n",
        "  if type(a) is int:\n",
        "    distance= abs(a-b)\n",
        "  elif len(a)==2:\n",
        "    distance = (a[0] - b[0]) ** 2 + (a[1] - b[1]) ** 2\n",
        "  elif len(a)==3:\n",
        "    distance = (a[0] - b[0]) ** 2 + (a[1] - b[1]) ** 2 + (a[2] - b[2]) ** 2\n",
        "  else:    \n",
        "    return MAX_DISTANCE\n",
        "  return distance if distance > 0 else MAX_DISTANCE  \n",
        "```\n",
        "\n"
      ]
    },
    {
      "cell_type": "code",
      "metadata": {
        "id": "z8iTWLaTRgbp",
        "colab_type": "code",
        "colab": {
          "base_uri": "https://localhost:8080/",
          "height": 85
        },
        "outputId": "dffa41da-d0b1-4ed7-d6e9-467e526c6cbf"
      },
      "source": [
        "run([(1,3),(12,342),(1,12312),(2,5)])\n",
        "run([(1,3,10),(12,12,342),(1,12312,1),(100,2,5),(5,10,25)])"
      ],
      "execution_count": 101,
      "outputs": [
        {
          "output_type": "stream",
          "text": [
            "Nearest points (1, 3),(2, 5) with distance 5\n",
            "Elapsed time 1 ms\n",
            "Nearest points (1, 3, 10),(5, 10, 25) with distance 290\n",
            "Elapsed time 0 ms\n"
          ],
          "name": "stdout"
        }
      ]
    }
  ]
}